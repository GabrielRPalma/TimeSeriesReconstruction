{
 "cells": [
  {
   "cell_type": "markdown",
   "id": "92ac208a",
   "metadata": {},
   "source": [
    "# PBP outbreak prediction\n",
    "\n",
    "Author: Gabriel R Palma.\n",
    "    \n",
    "Purpose: Prediction of outbreaks based on Pattern Based Prediction (PBP) method."
   ]
  },
  {
   "cell_type": "markdown",
   "id": "b873f8a8",
   "metadata": {},
   "source": [
    "# Importing packages"
   ]
  },
  {
   "cell_type": "code",
   "execution_count": 3,
   "id": "c84ff73e",
   "metadata": {},
   "outputs": [],
   "source": [
    "import pypbp as pbp\n",
    "import pandas as pd"
   ]
  },
  {
   "cell_type": "markdown",
   "id": "e0f5ce17",
   "metadata": {},
   "source": [
    "# Importing data"
   ]
  },
  {
   "cell_type": "code",
   "execution_count": 10,
   "id": "5bce31f6",
   "metadata": {},
   "outputs": [],
   "source": [
    "reconstructed_dataset = pd.read_csv('output_data/reconstructed_timeseries.csv')\n",
    "reconstructed_dataset = reconstructed_dataset.drop('Unnamed: 0', axis = 1)"
   ]
  },
  {
   "cell_type": "code",
   "execution_count": 11,
   "id": "7ad7e294",
   "metadata": {},
   "outputs": [
    {
     "data": {
      "text/html": [
       "<div>\n",
       "<style scoped>\n",
       "    .dataframe tbody tr th:only-of-type {\n",
       "        vertical-align: middle;\n",
       "    }\n",
       "\n",
       "    .dataframe tbody tr th {\n",
       "        vertical-align: top;\n",
       "    }\n",
       "\n",
       "    .dataframe thead th {\n",
       "        text-align: right;\n",
       "    }\n",
       "</style>\n",
       "<table border=\"1\" class=\"dataframe\">\n",
       "  <thead>\n",
       "    <tr style=\"text-align: right;\">\n",
       "      <th></th>\n",
       "      <th>pmm_t</th>\n",
       "      <th>y_t13</th>\n",
       "      <th>y_t14</th>\n",
       "      <th>y_t15</th>\n",
       "    </tr>\n",
       "  </thead>\n",
       "  <tbody>\n",
       "    <tr>\n",
       "      <th>0</th>\n",
       "      <td>33.6</td>\n",
       "      <td>221</td>\n",
       "      <td>347</td>\n",
       "      <td>62</td>\n",
       "    </tr>\n",
       "    <tr>\n",
       "      <th>1</th>\n",
       "      <td>114.1</td>\n",
       "      <td>347</td>\n",
       "      <td>62</td>\n",
       "      <td>108</td>\n",
       "    </tr>\n",
       "    <tr>\n",
       "      <th>2</th>\n",
       "      <td>17.4</td>\n",
       "      <td>62</td>\n",
       "      <td>108</td>\n",
       "      <td>178</td>\n",
       "    </tr>\n",
       "    <tr>\n",
       "      <th>3</th>\n",
       "      <td>14.3</td>\n",
       "      <td>108</td>\n",
       "      <td>178</td>\n",
       "      <td>76</td>\n",
       "    </tr>\n",
       "    <tr>\n",
       "      <th>4</th>\n",
       "      <td>6.2</td>\n",
       "      <td>178</td>\n",
       "      <td>76</td>\n",
       "      <td>89</td>\n",
       "    </tr>\n",
       "    <tr>\n",
       "      <th>...</th>\n",
       "      <td>...</td>\n",
       "      <td>...</td>\n",
       "      <td>...</td>\n",
       "      <td>...</td>\n",
       "    </tr>\n",
       "    <tr>\n",
       "      <th>191</th>\n",
       "      <td>0.4</td>\n",
       "      <td>22</td>\n",
       "      <td>34</td>\n",
       "      <td>21</td>\n",
       "    </tr>\n",
       "    <tr>\n",
       "      <th>192</th>\n",
       "      <td>94.7</td>\n",
       "      <td>34</td>\n",
       "      <td>21</td>\n",
       "      <td>45</td>\n",
       "    </tr>\n",
       "    <tr>\n",
       "      <th>193</th>\n",
       "      <td>110.2</td>\n",
       "      <td>21</td>\n",
       "      <td>45</td>\n",
       "      <td>6</td>\n",
       "    </tr>\n",
       "    <tr>\n",
       "      <th>194</th>\n",
       "      <td>54.0</td>\n",
       "      <td>45</td>\n",
       "      <td>6</td>\n",
       "      <td>0</td>\n",
       "    </tr>\n",
       "    <tr>\n",
       "      <th>195</th>\n",
       "      <td>69.0</td>\n",
       "      <td>6</td>\n",
       "      <td>0</td>\n",
       "      <td>0</td>\n",
       "    </tr>\n",
       "  </tbody>\n",
       "</table>\n",
       "<p>196 rows × 4 columns</p>\n",
       "</div>"
      ],
      "text/plain": [
       "     pmm_t  y_t13  y_t14  y_t15\n",
       "0     33.6    221    347     62\n",
       "1    114.1    347     62    108\n",
       "2     17.4     62    108    178\n",
       "3     14.3    108    178     76\n",
       "4      6.2    178     76     89\n",
       "..     ...    ...    ...    ...\n",
       "191    0.4     22     34     21\n",
       "192   94.7     34     21     45\n",
       "193  110.2     21     45      6\n",
       "194   54.0     45      6      0\n",
       "195   69.0      6      0      0\n",
       "\n",
       "[196 rows x 4 columns]"
      ]
     },
     "execution_count": 11,
     "metadata": {},
     "output_type": "execute_result"
    }
   ],
   "source": [
    "reconstructed_dataset"
   ]
  },
  {
   "cell_type": "markdown",
   "id": "66a677cf",
   "metadata": {},
   "source": [
    "# Training the model"
   ]
  },
  {
   "cell_type": "code",
   "execution_count": 13,
   "id": "056c44c3",
   "metadata": {},
   "outputs": [],
   "source": [
    "results, xstar, clustered_patterns, parameters = pbp.pbp_fit(time_series = pbp.time_series,\n",
    "            train_percentage = 0.5,\n",
    "            xstar = 200,\n",
    "            maxfun = 200)"
   ]
  },
  {
   "cell_type": "code",
   "execution_count": null,
   "id": "dccb3cf8",
   "metadata": {},
   "outputs": [],
   "source": []
  }
 ],
 "metadata": {
  "kernelspec": {
   "display_name": "Python 3 (ipykernel)",
   "language": "python",
   "name": "python3"
  },
  "language_info": {
   "codemirror_mode": {
    "name": "ipython",
    "version": 3
   },
   "file_extension": ".py",
   "mimetype": "text/x-python",
   "name": "python",
   "nbconvert_exporter": "python",
   "pygments_lexer": "ipython3",
   "version": "3.8.13"
  }
 },
 "nbformat": 4,
 "nbformat_minor": 5
}
